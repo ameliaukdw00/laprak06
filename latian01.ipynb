{
 "cells": [
  {
   "cell_type": "code",
   "execution_count": 2,
   "metadata": {},
   "outputs": [
    {
     "name": "stdout",
     "output_type": "stream",
     "text": [
      "Bilangan prima terdekat < 21 adalah 19.\n"
     ]
    }
   ],
   "source": [
    "def is_prime(num):\n",
    "    if num <= 1:\n",
    "        return False\n",
    "    if num <= 3:\n",
    "        return True\n",
    "    if num % 2 == 0 or num % 3 == 0:\n",
    "        return False\n",
    "    i = 5\n",
    "    while i * i <= num:\n",
    "        if num % i == 0 or num % (i + 2) == 0:\n",
    "            return False\n",
    "        i += 6\n",
    "    return True\n",
    "\n",
    "def nearest_prime_less_than_n(n):\n",
    "    if n <= 2:\n",
    "        return None\n",
    "    prime = n - 1\n",
    "    while prime >= 2:\n",
    "        if is_prime(prime):\n",
    "            return prime\n",
    "        prime -= 1\n",
    "    return None\n",
    "\n",
    "def main():\n",
    "    try:\n",
    "        n = int(input(\"Masukkan bilangan bulat positif: \"))\n",
    "        if n <= 0:\n",
    "            print(\"Masukkan bilangan bulat positif yang lebih besar dari 0.\")\n",
    "        else:\n",
    "            nearest = nearest_prime_less_than_n(n)\n",
    "            if nearest is not None:\n",
    "                print(f\"Bilangan prima terdekat < {n} adalah {nearest}.\")\n",
    "            else:\n",
    "                print(f\"Tidak ada bilangan prima yang kurang dari {n}.\")\n",
    "    except ValueError:\n",
    "        print(\"Masukkan bilangan bulat positif yang valid.\")\n",
    "\n",
    "if __name__ == \"__main__\":\n",
    "    main()\n"
   ]
  },
  {
   "cell_type": "code",
   "execution_count": 3,
   "metadata": {},
   "outputs": [
    {
     "name": "stdout",
     "output_type": "stream",
     "text": [
      "120 5 4 3 2 1 \n",
      "144 4 3 2 1 \n",
      "180 3 2 1 \n",
      "240 2 1 \n",
      "360 1 \n",
      "720 \n"
     ]
    }
   ],
   "source": [
    "# Meminta pengguna untuk memasukkan nilai n\n",
    "n = int(input(\"Masukkan nilai n: \"))\n",
    "\n",
    "# Menggunakan perulangan for untuk mengulangi setiap baris deret\n",
    "for i in range(n, 0, -1):\n",
    "    # Mencetak angka awal\n",
    "    print(720 // i, end=\" \")\n",
    "    \n",
    "    # Menggunakan perulangan for lain untuk mencetak angka yang berurutan dari n hingga 1\n",
    "    for j in range(i-1, 0, -1):\n",
    "        print(j, end=\" \")\n",
    "    print()\n"
   ]
  },
  {
   "cell_type": "code",
   "execution_count": 5,
   "metadata": {},
   "outputs": [
    {
     "name": "stdout",
     "output_type": "stream",
     "text": [
      " 1  2  3  4 \n",
      " 5  6  7  8 \n",
      " 9 10 11 12 \n",
      "13 14 15 16 \n",
      "17 18 19 20 \n"
     ]
    }
   ],
   "source": [
    "def main():\n",
    "  # Input tinggi dan lebar dari pengguna\n",
    "  tinggi = int(input(\"Masukkan tinggi: \"))\n",
    "  lebar = int(input(\"Masukkan lebar: \"))\n",
    "\n",
    "  # Hitung total angka\n",
    "  total_angka = tinggi * lebar\n",
    "\n",
    "  # Inisialisasi variabel untuk nomor urut\n",
    "  nomor_urut = 1\n",
    "\n",
    "  # Looping untuk setiap baris\n",
    "  for i in range(tinggi):\n",
    "    # Looping untuk setiap kolom\n",
    "    for j in range(lebar):\n",
    "      # Tampilkan nomor urut\n",
    "      print(f\"{nomor_urut:2}\", end=\" \")\n",
    "\n",
    "      # Increment nomor urut\n",
    "      nomor_urut += 1\n",
    "\n",
    "    # Pindah baris\n",
    "    print()\n",
    "\n",
    "if __name__ == \"__main__\":\n",
    "  main()\n",
    "\n"
   ]
  }
 ],
 "metadata": {
  "kernelspec": {
   "display_name": "Python 3",
   "language": "python",
   "name": "python3"
  },
  "language_info": {
   "codemirror_mode": {
    "name": "ipython",
    "version": 3
   },
   "file_extension": ".py",
   "mimetype": "text/x-python",
   "name": "python",
   "nbconvert_exporter": "python",
   "pygments_lexer": "ipython3",
   "version": "3.12.2"
  }
 },
 "nbformat": 4,
 "nbformat_minor": 2
}
